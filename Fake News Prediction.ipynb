{
 "cells": [
  {
   "cell_type": "markdown",
   "metadata": {
    "colab_type": "text",
    "id": "oo6CyZV2aaun"
   },
   "source": [
    "### Dataset & EDA"
   ]
  },
  {
   "cell_type": "code",
   "execution_count": null,
   "metadata": {
    "colab": {},
    "colab_type": "code",
    "id": "4diY-00FbkfC"
   },
   "outputs": [],
   "source": [
    "from google.colab import files\n",
    "files.upload()"
   ]
  },
  {
   "cell_type": "code",
   "execution_count": 2,
   "metadata": {
    "colab": {},
    "colab_type": "code",
    "executionInfo": {
     "elapsed": 4754,
     "status": "ok",
     "timestamp": 1595411426061,
     "user": {
      "displayName": "Keep Music Weird",
      "photoUrl": "https://lh3.googleusercontent.com/a-/AOh14Gi9IyYwcNDdJY9RrMvpMOuSI7FIspu0Dy8OyRZaVg=s64",
      "userId": "00063312648037822198"
     },
     "user_tz": -60
    },
    "id": "RaXcEA-1bxk5"
   },
   "outputs": [],
   "source": [
    "!pip install -q kaggle"
   ]
  },
  {
   "cell_type": "code",
   "execution_count": 3,
   "metadata": {
    "colab": {},
    "colab_type": "code",
    "executionInfo": {
     "elapsed": 5624,
     "status": "ok",
     "timestamp": 1595411435901,
     "user": {
      "displayName": "Keep Music Weird",
      "photoUrl": "https://lh3.googleusercontent.com/a-/AOh14Gi9IyYwcNDdJY9RrMvpMOuSI7FIspu0Dy8OyRZaVg=s64",
      "userId": "00063312648037822198"
     },
     "user_tz": -60
    },
    "id": "r6dyygWpb48E"
   },
   "outputs": [],
   "source": [
    "!mkdir -p ~/.kaggle\n",
    "!cp kaggle.json ~/.kaggle/"
   ]
  },
  {
   "cell_type": "code",
   "execution_count": 4,
   "metadata": {
    "colab": {
     "base_uri": "https://localhost:8080/",
     "height": 85
    },
    "colab_type": "code",
    "executionInfo": {
     "elapsed": 7270,
     "status": "ok",
     "timestamp": 1595411448431,
     "user": {
      "displayName": "Keep Music Weird",
      "photoUrl": "https://lh3.googleusercontent.com/a-/AOh14Gi9IyYwcNDdJY9RrMvpMOuSI7FIspu0Dy8OyRZaVg=s64",
      "userId": "00063312648037822198"
     },
     "user_tz": -60
    },
    "id": "X2eYzCSgcJ67",
    "outputId": "6f1c418c-8e3e-4317-ce83-d2e81f049f58"
   },
   "outputs": [
    {
     "name": "stdout",
     "output_type": "stream",
     "text": [
      "Warning: Your Kaggle API key is readable by other users on this system! To fix this, you can run 'chmod 600 /root/.kaggle/kaggle.json'\n",
      "Downloading fake-and-real-news-dataset.zip to /content\n",
      "100% 41.0M/41.0M [00:02<00:00, 13.1MB/s]\n",
      "\n"
     ]
    }
   ],
   "source": [
    "!kaggle datasets download clmentbisaillon/fake-and-real-news-dataset"
   ]
  },
  {
   "cell_type": "code",
   "execution_count": 5,
   "metadata": {
    "colab": {
     "base_uri": "https://localhost:8080/",
     "height": 34
    },
    "colab_type": "code",
    "executionInfo": {
     "elapsed": 4465,
     "status": "ok",
     "timestamp": 1595411459013,
     "user": {
      "displayName": "Keep Music Weird",
      "photoUrl": "https://lh3.googleusercontent.com/a-/AOh14Gi9IyYwcNDdJY9RrMvpMOuSI7FIspu0Dy8OyRZaVg=s64",
      "userId": "00063312648037822198"
     },
     "user_tz": -60
    },
    "id": "gwNHpuTucSDV",
    "outputId": "98c24539-b9da-4772-e468-ee261039559b"
   },
   "outputs": [
    {
     "name": "stdout",
     "output_type": "stream",
     "text": [
      " fake-and-real-news-dataset.zip  'kaggle (1).json'   kaggle.json   sample_data\n"
     ]
    }
   ],
   "source": [
    "!ls /content"
   ]
  },
  {
   "cell_type": "code",
   "execution_count": 6,
   "metadata": {
    "colab": {
     "base_uri": "https://localhost:8080/",
     "height": 68
    },
    "colab_type": "code",
    "executionInfo": {
     "elapsed": 3751,
     "status": "ok",
     "timestamp": 1595411466256,
     "user": {
      "displayName": "Keep Music Weird",
      "photoUrl": "https://lh3.googleusercontent.com/a-/AOh14Gi9IyYwcNDdJY9RrMvpMOuSI7FIspu0Dy8OyRZaVg=s64",
      "userId": "00063312648037822198"
     },
     "user_tz": -60
    },
    "id": "20ImJM5ScYsQ",
    "outputId": "53a6af27-5168-49f4-983f-9c762c140022"
   },
   "outputs": [
    {
     "name": "stdout",
     "output_type": "stream",
     "text": [
      "Archive:  fake-and-real-news-dataset.zip\n",
      "  inflating: Fake.csv                \n",
      "  inflating: True.csv                \n"
     ]
    }
   ],
   "source": [
    "!unzip fake-and-real-news-dataset.zip"
   ]
  },
  {
   "cell_type": "code",
   "execution_count": 7,
   "metadata": {
    "colab": {},
    "colab_type": "code",
    "executionInfo": {
     "elapsed": 732,
     "status": "ok",
     "timestamp": 1595411469849,
     "user": {
      "displayName": "Keep Music Weird",
      "photoUrl": "https://lh3.googleusercontent.com/a-/AOh14Gi9IyYwcNDdJY9RrMvpMOuSI7FIspu0Dy8OyRZaVg=s64",
      "userId": "00063312648037822198"
     },
     "user_tz": -60
    },
    "id": "5HSzbQT3aaup"
   },
   "outputs": [],
   "source": [
    "import pandas as pd"
   ]
  },
  {
   "cell_type": "code",
   "execution_count": 8,
   "metadata": {
    "colab": {},
    "colab_type": "code",
    "executionInfo": {
     "elapsed": 1328,
     "status": "ok",
     "timestamp": 1595411474416,
     "user": {
      "displayName": "Keep Music Weird",
      "photoUrl": "https://lh3.googleusercontent.com/a-/AOh14Gi9IyYwcNDdJY9RrMvpMOuSI7FIspu0Dy8OyRZaVg=s64",
      "userId": "00063312648037822198"
     },
     "user_tz": -60
    },
    "id": "y4hg8AJRaaux"
   },
   "outputs": [],
   "source": [
    "true = pd.read_csv('/content/True.csv')"
   ]
  },
  {
   "cell_type": "code",
   "execution_count": 9,
   "metadata": {
    "colab": {
     "base_uri": "https://localhost:8080/",
     "height": 142
    },
    "colab_type": "code",
    "executionInfo": {
     "elapsed": 764,
     "status": "ok",
     "timestamp": 1595411477527,
     "user": {
      "displayName": "Keep Music Weird",
      "photoUrl": "https://lh3.googleusercontent.com/a-/AOh14Gi9IyYwcNDdJY9RrMvpMOuSI7FIspu0Dy8OyRZaVg=s64",
      "userId": "00063312648037822198"
     },
     "user_tz": -60
    },
    "id": "AyzhLJ2Paau2",
    "outputId": "caf7eec5-7cf2-45ef-baf0-4c7617c48761"
   },
   "outputs": [
    {
     "data": {
      "text/html": [
       "<div>\n",
       "<style scoped>\n",
       "    .dataframe tbody tr th:only-of-type {\n",
       "        vertical-align: middle;\n",
       "    }\n",
       "\n",
       "    .dataframe tbody tr th {\n",
       "        vertical-align: top;\n",
       "    }\n",
       "\n",
       "    .dataframe thead th {\n",
       "        text-align: right;\n",
       "    }\n",
       "</style>\n",
       "<table border=\"1\" class=\"dataframe\">\n",
       "  <thead>\n",
       "    <tr style=\"text-align: right;\">\n",
       "      <th></th>\n",
       "      <th>title</th>\n",
       "      <th>text</th>\n",
       "      <th>subject</th>\n",
       "      <th>date</th>\n",
       "    </tr>\n",
       "  </thead>\n",
       "  <tbody>\n",
       "    <tr>\n",
       "      <th>0</th>\n",
       "      <td>As U.S. budget fight looms, Republicans flip t...</td>\n",
       "      <td>WASHINGTON (Reuters) - The head of a conservat...</td>\n",
       "      <td>politicsNews</td>\n",
       "      <td>December 31, 2017</td>\n",
       "    </tr>\n",
       "    <tr>\n",
       "      <th>1</th>\n",
       "      <td>U.S. military to accept transgender recruits o...</td>\n",
       "      <td>WASHINGTON (Reuters) - Transgender people will...</td>\n",
       "      <td>politicsNews</td>\n",
       "      <td>December 29, 2017</td>\n",
       "    </tr>\n",
       "    <tr>\n",
       "      <th>2</th>\n",
       "      <td>Senior U.S. Republican senator: 'Let Mr. Muell...</td>\n",
       "      <td>WASHINGTON (Reuters) - The special counsel inv...</td>\n",
       "      <td>politicsNews</td>\n",
       "      <td>December 31, 2017</td>\n",
       "    </tr>\n",
       "  </tbody>\n",
       "</table>\n",
       "</div>"
      ],
      "text/plain": [
       "                                               title  ...                date\n",
       "0  As U.S. budget fight looms, Republicans flip t...  ...  December 31, 2017 \n",
       "1  U.S. military to accept transgender recruits o...  ...  December 29, 2017 \n",
       "2  Senior U.S. Republican senator: 'Let Mr. Muell...  ...  December 31, 2017 \n",
       "\n",
       "[3 rows x 4 columns]"
      ]
     },
     "execution_count": 9,
     "metadata": {
      "tags": []
     },
     "output_type": "execute_result"
    }
   ],
   "source": [
    "true.head(3)"
   ]
  },
  {
   "cell_type": "code",
   "execution_count": 10,
   "metadata": {
    "colab": {},
    "colab_type": "code",
    "executionInfo": {
     "elapsed": 1134,
     "status": "ok",
     "timestamp": 1595411485907,
     "user": {
      "displayName": "Keep Music Weird",
      "photoUrl": "https://lh3.googleusercontent.com/a-/AOh14Gi9IyYwcNDdJY9RrMvpMOuSI7FIspu0Dy8OyRZaVg=s64",
      "userId": "00063312648037822198"
     },
     "user_tz": -60
    },
    "id": "2IUF4xFsaau-"
   },
   "outputs": [],
   "source": [
    "fake = pd.read_csv('/content/Fake.csv')"
   ]
  },
  {
   "cell_type": "code",
   "execution_count": 11,
   "metadata": {
    "colab": {
     "base_uri": "https://localhost:8080/",
     "height": 142
    },
    "colab_type": "code",
    "executionInfo": {
     "elapsed": 791,
     "status": "ok",
     "timestamp": 1595411489446,
     "user": {
      "displayName": "Keep Music Weird",
      "photoUrl": "https://lh3.googleusercontent.com/a-/AOh14Gi9IyYwcNDdJY9RrMvpMOuSI7FIspu0Dy8OyRZaVg=s64",
      "userId": "00063312648037822198"
     },
     "user_tz": -60
    },
    "id": "djhflIYvc9Fz",
    "outputId": "727bb2f8-a7c5-46cd-b767-8fc8a9eb875b"
   },
   "outputs": [
    {
     "data": {
      "text/html": [
       "<div>\n",
       "<style scoped>\n",
       "    .dataframe tbody tr th:only-of-type {\n",
       "        vertical-align: middle;\n",
       "    }\n",
       "\n",
       "    .dataframe tbody tr th {\n",
       "        vertical-align: top;\n",
       "    }\n",
       "\n",
       "    .dataframe thead th {\n",
       "        text-align: right;\n",
       "    }\n",
       "</style>\n",
       "<table border=\"1\" class=\"dataframe\">\n",
       "  <thead>\n",
       "    <tr style=\"text-align: right;\">\n",
       "      <th></th>\n",
       "      <th>title</th>\n",
       "      <th>text</th>\n",
       "      <th>subject</th>\n",
       "      <th>date</th>\n",
       "    </tr>\n",
       "  </thead>\n",
       "  <tbody>\n",
       "    <tr>\n",
       "      <th>0</th>\n",
       "      <td>Donald Trump Sends Out Embarrassing New Year’...</td>\n",
       "      <td>Donald Trump just couldn t wish all Americans ...</td>\n",
       "      <td>News</td>\n",
       "      <td>December 31, 2017</td>\n",
       "    </tr>\n",
       "    <tr>\n",
       "      <th>1</th>\n",
       "      <td>Drunk Bragging Trump Staffer Started Russian ...</td>\n",
       "      <td>House Intelligence Committee Chairman Devin Nu...</td>\n",
       "      <td>News</td>\n",
       "      <td>December 31, 2017</td>\n",
       "    </tr>\n",
       "    <tr>\n",
       "      <th>2</th>\n",
       "      <td>Sheriff David Clarke Becomes An Internet Joke...</td>\n",
       "      <td>On Friday, it was revealed that former Milwauk...</td>\n",
       "      <td>News</td>\n",
       "      <td>December 30, 2017</td>\n",
       "    </tr>\n",
       "  </tbody>\n",
       "</table>\n",
       "</div>"
      ],
      "text/plain": [
       "                                               title  ...               date\n",
       "0   Donald Trump Sends Out Embarrassing New Year’...  ...  December 31, 2017\n",
       "1   Drunk Bragging Trump Staffer Started Russian ...  ...  December 31, 2017\n",
       "2   Sheriff David Clarke Becomes An Internet Joke...  ...  December 30, 2017\n",
       "\n",
       "[3 rows x 4 columns]"
      ]
     },
     "execution_count": 11,
     "metadata": {
      "tags": []
     },
     "output_type": "execute_result"
    }
   ],
   "source": [
    "fake.head(3)"
   ]
  },
  {
   "cell_type": "code",
   "execution_count": 12,
   "metadata": {
    "colab": {
     "base_uri": "https://localhost:8080/",
     "height": 34
    },
    "colab_type": "code",
    "executionInfo": {
     "elapsed": 763,
     "status": "ok",
     "timestamp": 1595411494587,
     "user": {
      "displayName": "Keep Music Weird",
      "photoUrl": "https://lh3.googleusercontent.com/a-/AOh14Gi9IyYwcNDdJY9RrMvpMOuSI7FIspu0Dy8OyRZaVg=s64",
      "userId": "00063312648037822198"
     },
     "user_tz": -60
    },
    "id": "wMwslxEgaavE",
    "outputId": "e8c64101-91b8-4e2d-97d3-c9221918d997"
   },
   "outputs": [
    {
     "data": {
      "text/plain": [
       "(21417, 4)"
      ]
     },
     "execution_count": 12,
     "metadata": {
      "tags": []
     },
     "output_type": "execute_result"
    }
   ],
   "source": [
    "true.shape"
   ]
  },
  {
   "cell_type": "code",
   "execution_count": 13,
   "metadata": {
    "colab": {
     "base_uri": "https://localhost:8080/",
     "height": 34
    },
    "colab_type": "code",
    "executionInfo": {
     "elapsed": 977,
     "status": "ok",
     "timestamp": 1595411497866,
     "user": {
      "displayName": "Keep Music Weird",
      "photoUrl": "https://lh3.googleusercontent.com/a-/AOh14Gi9IyYwcNDdJY9RrMvpMOuSI7FIspu0Dy8OyRZaVg=s64",
      "userId": "00063312648037822198"
     },
     "user_tz": -60
    },
    "id": "-zccgSIgdNFb",
    "outputId": "1f0793d9-589e-4d2d-e626-3b255114e7dd"
   },
   "outputs": [
    {
     "data": {
      "text/plain": [
       "(23481, 4)"
      ]
     },
     "execution_count": 13,
     "metadata": {
      "tags": []
     },
     "output_type": "execute_result"
    }
   ],
   "source": [
    "fake.shape"
   ]
  },
  {
   "cell_type": "code",
   "execution_count": 14,
   "metadata": {
    "colab": {},
    "colab_type": "code",
    "executionInfo": {
     "elapsed": 752,
     "status": "ok",
     "timestamp": 1595411503717,
     "user": {
      "displayName": "Keep Music Weird",
      "photoUrl": "https://lh3.googleusercontent.com/a-/AOh14Gi9IyYwcNDdJY9RrMvpMOuSI7FIspu0Dy8OyRZaVg=s64",
      "userId": "00063312648037822198"
     },
     "user_tz": -60
    },
    "id": "mUN3MznndUyk"
   },
   "outputs": [],
   "source": [
    "true['label'] = 1"
   ]
  },
  {
   "cell_type": "code",
   "execution_count": 15,
   "metadata": {
    "colab": {
     "base_uri": "https://localhost:8080/",
     "height": 142
    },
    "colab_type": "code",
    "executionInfo": {
     "elapsed": 1001,
     "status": "ok",
     "timestamp": 1595411508073,
     "user": {
      "displayName": "Keep Music Weird",
      "photoUrl": "https://lh3.googleusercontent.com/a-/AOh14Gi9IyYwcNDdJY9RrMvpMOuSI7FIspu0Dy8OyRZaVg=s64",
      "userId": "00063312648037822198"
     },
     "user_tz": -60
    },
    "id": "jYYojj0vdf9T",
    "outputId": "820afd05-3c26-40c9-c8f6-c12fcf582a6f"
   },
   "outputs": [
    {
     "data": {
      "text/html": [
       "<div>\n",
       "<style scoped>\n",
       "    .dataframe tbody tr th:only-of-type {\n",
       "        vertical-align: middle;\n",
       "    }\n",
       "\n",
       "    .dataframe tbody tr th {\n",
       "        vertical-align: top;\n",
       "    }\n",
       "\n",
       "    .dataframe thead th {\n",
       "        text-align: right;\n",
       "    }\n",
       "</style>\n",
       "<table border=\"1\" class=\"dataframe\">\n",
       "  <thead>\n",
       "    <tr style=\"text-align: right;\">\n",
       "      <th></th>\n",
       "      <th>title</th>\n",
       "      <th>text</th>\n",
       "      <th>subject</th>\n",
       "      <th>date</th>\n",
       "      <th>label</th>\n",
       "    </tr>\n",
       "  </thead>\n",
       "  <tbody>\n",
       "    <tr>\n",
       "      <th>0</th>\n",
       "      <td>As U.S. budget fight looms, Republicans flip t...</td>\n",
       "      <td>WASHINGTON (Reuters) - The head of a conservat...</td>\n",
       "      <td>politicsNews</td>\n",
       "      <td>December 31, 2017</td>\n",
       "      <td>1</td>\n",
       "    </tr>\n",
       "    <tr>\n",
       "      <th>1</th>\n",
       "      <td>U.S. military to accept transgender recruits o...</td>\n",
       "      <td>WASHINGTON (Reuters) - Transgender people will...</td>\n",
       "      <td>politicsNews</td>\n",
       "      <td>December 29, 2017</td>\n",
       "      <td>1</td>\n",
       "    </tr>\n",
       "    <tr>\n",
       "      <th>2</th>\n",
       "      <td>Senior U.S. Republican senator: 'Let Mr. Muell...</td>\n",
       "      <td>WASHINGTON (Reuters) - The special counsel inv...</td>\n",
       "      <td>politicsNews</td>\n",
       "      <td>December 31, 2017</td>\n",
       "      <td>1</td>\n",
       "    </tr>\n",
       "  </tbody>\n",
       "</table>\n",
       "</div>"
      ],
      "text/plain": [
       "                                               title  ... label\n",
       "0  As U.S. budget fight looms, Republicans flip t...  ...     1\n",
       "1  U.S. military to accept transgender recruits o...  ...     1\n",
       "2  Senior U.S. Republican senator: 'Let Mr. Muell...  ...     1\n",
       "\n",
       "[3 rows x 5 columns]"
      ]
     },
     "execution_count": 15,
     "metadata": {
      "tags": []
     },
     "output_type": "execute_result"
    }
   ],
   "source": [
    "true.head(3)"
   ]
  },
  {
   "cell_type": "code",
   "execution_count": 16,
   "metadata": {
    "colab": {},
    "colab_type": "code",
    "executionInfo": {
     "elapsed": 759,
     "status": "ok",
     "timestamp": 1595411513610,
     "user": {
      "displayName": "Keep Music Weird",
      "photoUrl": "https://lh3.googleusercontent.com/a-/AOh14Gi9IyYwcNDdJY9RrMvpMOuSI7FIspu0Dy8OyRZaVg=s64",
      "userId": "00063312648037822198"
     },
     "user_tz": -60
    },
    "id": "kgHXlR0XdiPq"
   },
   "outputs": [],
   "source": [
    "fake['label'] = 0"
   ]
  },
  {
   "cell_type": "code",
   "execution_count": 17,
   "metadata": {
    "colab": {
     "base_uri": "https://localhost:8080/",
     "height": 142
    },
    "colab_type": "code",
    "executionInfo": {
     "elapsed": 793,
     "status": "ok",
     "timestamp": 1595411526441,
     "user": {
      "displayName": "Keep Music Weird",
      "photoUrl": "https://lh3.googleusercontent.com/a-/AOh14Gi9IyYwcNDdJY9RrMvpMOuSI7FIspu0Dy8OyRZaVg=s64",
      "userId": "00063312648037822198"
     },
     "user_tz": -60
    },
    "id": "UE6Px8jh79WT",
    "outputId": "e727e160-af4c-4cc8-8781-ca1107adaa05"
   },
   "outputs": [
    {
     "data": {
      "text/html": [
       "<div>\n",
       "<style scoped>\n",
       "    .dataframe tbody tr th:only-of-type {\n",
       "        vertical-align: middle;\n",
       "    }\n",
       "\n",
       "    .dataframe tbody tr th {\n",
       "        vertical-align: top;\n",
       "    }\n",
       "\n",
       "    .dataframe thead th {\n",
       "        text-align: right;\n",
       "    }\n",
       "</style>\n",
       "<table border=\"1\" class=\"dataframe\">\n",
       "  <thead>\n",
       "    <tr style=\"text-align: right;\">\n",
       "      <th></th>\n",
       "      <th>title</th>\n",
       "      <th>text</th>\n",
       "      <th>subject</th>\n",
       "      <th>date</th>\n",
       "      <th>label</th>\n",
       "    </tr>\n",
       "  </thead>\n",
       "  <tbody>\n",
       "    <tr>\n",
       "      <th>0</th>\n",
       "      <td>Donald Trump Sends Out Embarrassing New Year’...</td>\n",
       "      <td>Donald Trump just couldn t wish all Americans ...</td>\n",
       "      <td>News</td>\n",
       "      <td>December 31, 2017</td>\n",
       "      <td>0</td>\n",
       "    </tr>\n",
       "    <tr>\n",
       "      <th>1</th>\n",
       "      <td>Drunk Bragging Trump Staffer Started Russian ...</td>\n",
       "      <td>House Intelligence Committee Chairman Devin Nu...</td>\n",
       "      <td>News</td>\n",
       "      <td>December 31, 2017</td>\n",
       "      <td>0</td>\n",
       "    </tr>\n",
       "    <tr>\n",
       "      <th>2</th>\n",
       "      <td>Sheriff David Clarke Becomes An Internet Joke...</td>\n",
       "      <td>On Friday, it was revealed that former Milwauk...</td>\n",
       "      <td>News</td>\n",
       "      <td>December 30, 2017</td>\n",
       "      <td>0</td>\n",
       "    </tr>\n",
       "  </tbody>\n",
       "</table>\n",
       "</div>"
      ],
      "text/plain": [
       "                                               title  ... label\n",
       "0   Donald Trump Sends Out Embarrassing New Year’...  ...     0\n",
       "1   Drunk Bragging Trump Staffer Started Russian ...  ...     0\n",
       "2   Sheriff David Clarke Becomes An Internet Joke...  ...     0\n",
       "\n",
       "[3 rows x 5 columns]"
      ]
     },
     "execution_count": 17,
     "metadata": {
      "tags": []
     },
     "output_type": "execute_result"
    }
   ],
   "source": [
    "fake.head(3)"
   ]
  },
  {
   "cell_type": "code",
   "execution_count": 18,
   "metadata": {
    "colab": {},
    "colab_type": "code",
    "executionInfo": {
     "elapsed": 819,
     "status": "ok",
     "timestamp": 1595411531197,
     "user": {
      "displayName": "Keep Music Weird",
      "photoUrl": "https://lh3.googleusercontent.com/a-/AOh14Gi9IyYwcNDdJY9RrMvpMOuSI7FIspu0Dy8OyRZaVg=s64",
      "userId": "00063312648037822198"
     },
     "user_tz": -60
    },
    "id": "OuiYyCWfdrv5"
   },
   "outputs": [],
   "source": [
    "frames = [true.loc[0:5000][:], fake.loc[0:5000][:]]\n",
    "df = pd.concat(frames)"
   ]
  },
  {
   "cell_type": "code",
   "execution_count": 19,
   "metadata": {
    "colab": {
     "base_uri": "https://localhost:8080/",
     "height": 34
    },
    "colab_type": "code",
    "executionInfo": {
     "elapsed": 797,
     "status": "ok",
     "timestamp": 1595411535238,
     "user": {
      "displayName": "Keep Music Weird",
      "photoUrl": "https://lh3.googleusercontent.com/a-/AOh14Gi9IyYwcNDdJY9RrMvpMOuSI7FIspu0Dy8OyRZaVg=s64",
      "userId": "00063312648037822198"
     },
     "user_tz": -60
    },
    "id": "tcs-WPDHe52o",
    "outputId": "6630597a-5968-45ad-8934-27bf239177eb"
   },
   "outputs": [
    {
     "data": {
      "text/plain": [
       "(10002, 5)"
      ]
     },
     "execution_count": 19,
     "metadata": {
      "tags": []
     },
     "output_type": "execute_result"
    }
   ],
   "source": [
    "df.shape"
   ]
  },
  {
   "cell_type": "code",
   "execution_count": 20,
   "metadata": {
    "colab": {},
    "colab_type": "code",
    "executionInfo": {
     "elapsed": 759,
     "status": "ok",
     "timestamp": 1595411550604,
     "user": {
      "displayName": "Keep Music Weird",
      "photoUrl": "https://lh3.googleusercontent.com/a-/AOh14Gi9IyYwcNDdJY9RrMvpMOuSI7FIspu0Dy8OyRZaVg=s64",
      "userId": "00063312648037822198"
     },
     "user_tz": -60
    },
    "id": "Kq_-4oUngF9H"
   },
   "outputs": [],
   "source": [
    "df = df.sample(frac=1).reset_index(drop=True)"
   ]
  },
  {
   "cell_type": "code",
   "execution_count": 21,
   "metadata": {
    "colab": {
     "base_uri": "https://localhost:8080/",
     "height": 204
    },
    "colab_type": "code",
    "executionInfo": {
     "elapsed": 779,
     "status": "ok",
     "timestamp": 1595411553982,
     "user": {
      "displayName": "Keep Music Weird",
      "photoUrl": "https://lh3.googleusercontent.com/a-/AOh14Gi9IyYwcNDdJY9RrMvpMOuSI7FIspu0Dy8OyRZaVg=s64",
      "userId": "00063312648037822198"
     },
     "user_tz": -60
    },
    "id": "BH-9Fr4FgIF9",
    "outputId": "c1962100-30da-4d46-f136-828ff579597f"
   },
   "outputs": [
    {
     "data": {
      "text/html": [
       "<div>\n",
       "<style scoped>\n",
       "    .dataframe tbody tr th:only-of-type {\n",
       "        vertical-align: middle;\n",
       "    }\n",
       "\n",
       "    .dataframe tbody tr th {\n",
       "        vertical-align: top;\n",
       "    }\n",
       "\n",
       "    .dataframe thead th {\n",
       "        text-align: right;\n",
       "    }\n",
       "</style>\n",
       "<table border=\"1\" class=\"dataframe\">\n",
       "  <thead>\n",
       "    <tr style=\"text-align: right;\">\n",
       "      <th></th>\n",
       "      <th>title</th>\n",
       "      <th>text</th>\n",
       "      <th>subject</th>\n",
       "      <th>date</th>\n",
       "      <th>label</th>\n",
       "    </tr>\n",
       "  </thead>\n",
       "  <tbody>\n",
       "    <tr>\n",
       "      <th>0</th>\n",
       "      <td>Zach Johnson, Pieters share lead at Firestone</td>\n",
       "      <td>(Reuters) - Late birdies from Thomas Pieters a...</td>\n",
       "      <td>politicsNews</td>\n",
       "      <td>August 5, 2017</td>\n",
       "      <td>1</td>\n",
       "    </tr>\n",
       "    <tr>\n",
       "      <th>1</th>\n",
       "      <td>House Speaker Ryan sees long battle over tax r...</td>\n",
       "      <td>LONDON (Reuters) - The United States’ first ta...</td>\n",
       "      <td>politicsNews</td>\n",
       "      <td>April 19, 2017</td>\n",
       "      <td>1</td>\n",
       "    </tr>\n",
       "    <tr>\n",
       "      <th>2</th>\n",
       "      <td>Exclusive: U.S. asks nations to provide more t...</td>\n",
       "      <td>WASHINGTON (Reuters) - The U.S. State Departme...</td>\n",
       "      <td>politicsNews</td>\n",
       "      <td>July 13, 2017</td>\n",
       "      <td>1</td>\n",
       "    </tr>\n",
       "    <tr>\n",
       "      <th>3</th>\n",
       "      <td>The Cast Of Hamilton Had An EXTRAORDINARY Mes...</td>\n",
       "      <td>Donald Trump is now the president-elect, and h...</td>\n",
       "      <td>News</td>\n",
       "      <td>November 19, 2016</td>\n",
       "      <td>0</td>\n",
       "    </tr>\n",
       "    <tr>\n",
       "      <th>4</th>\n",
       "      <td>Trump Just Got His P*ssy Handed To Him By New...</td>\n",
       "      <td>Donald Trump bit off a bit more than he could ...</td>\n",
       "      <td>News</td>\n",
       "      <td>November 17, 2017</td>\n",
       "      <td>0</td>\n",
       "    </tr>\n",
       "  </tbody>\n",
       "</table>\n",
       "</div>"
      ],
      "text/plain": [
       "                                               title  ... label\n",
       "0      Zach Johnson, Pieters share lead at Firestone  ...     1\n",
       "1  House Speaker Ryan sees long battle over tax r...  ...     1\n",
       "2  Exclusive: U.S. asks nations to provide more t...  ...     1\n",
       "3   The Cast Of Hamilton Had An EXTRAORDINARY Mes...  ...     0\n",
       "4   Trump Just Got His P*ssy Handed To Him By New...  ...     0\n",
       "\n",
       "[5 rows x 5 columns]"
      ]
     },
     "execution_count": 21,
     "metadata": {
      "tags": []
     },
     "output_type": "execute_result"
    }
   ],
   "source": [
    "df.head()"
   ]
  },
  {
   "cell_type": "code",
   "execution_count": 22,
   "metadata": {
    "colab": {},
    "colab_type": "code",
    "executionInfo": {
     "elapsed": 753,
     "status": "ok",
     "timestamp": 1595411601435,
     "user": {
      "displayName": "Keep Music Weird",
      "photoUrl": "https://lh3.googleusercontent.com/a-/AOh14Gi9IyYwcNDdJY9RrMvpMOuSI7FIspu0Dy8OyRZaVg=s64",
      "userId": "00063312648037822198"
     },
     "user_tz": -60
    },
    "id": "Pxi8bk-uaavJ"
   },
   "outputs": [],
   "source": [
    "X = df.drop('label', axis=1)"
   ]
  },
  {
   "cell_type": "code",
   "execution_count": 23,
   "metadata": {
    "colab": {},
    "colab_type": "code",
    "executionInfo": {
     "elapsed": 763,
     "status": "ok",
     "timestamp": 1595411604676,
     "user": {
      "displayName": "Keep Music Weird",
      "photoUrl": "https://lh3.googleusercontent.com/a-/AOh14Gi9IyYwcNDdJY9RrMvpMOuSI7FIspu0Dy8OyRZaVg=s64",
      "userId": "00063312648037822198"
     },
     "user_tz": -60
    },
    "id": "d_WeBCGiaavO"
   },
   "outputs": [],
   "source": [
    "y = df['label']"
   ]
  },
  {
   "cell_type": "code",
   "execution_count": 24,
   "metadata": {
    "colab": {},
    "colab_type": "code",
    "executionInfo": {
     "elapsed": 849,
     "status": "ok",
     "timestamp": 1595411614578,
     "user": {
      "displayName": "Keep Music Weird",
      "photoUrl": "https://lh3.googleusercontent.com/a-/AOh14Gi9IyYwcNDdJY9RrMvpMOuSI7FIspu0Dy8OyRZaVg=s64",
      "userId": "00063312648037822198"
     },
     "user_tz": -60
    },
    "id": "9L1JIPYlaavU"
   },
   "outputs": [],
   "source": [
    "df = df.dropna()"
   ]
  },
  {
   "cell_type": "code",
   "execution_count": 25,
   "metadata": {
    "colab": {},
    "colab_type": "code",
    "executionInfo": {
     "elapsed": 947,
     "status": "ok",
     "timestamp": 1595411633597,
     "user": {
      "displayName": "Keep Music Weird",
      "photoUrl": "https://lh3.googleusercontent.com/a-/AOh14Gi9IyYwcNDdJY9RrMvpMOuSI7FIspu0Dy8OyRZaVg=s64",
      "userId": "00063312648037822198"
     },
     "user_tz": -60
    },
    "id": "ND_3F6KMaavZ"
   },
   "outputs": [],
   "source": [
    "messages = df.copy()"
   ]
  },
  {
   "cell_type": "code",
   "execution_count": 26,
   "metadata": {
    "colab": {},
    "colab_type": "code",
    "executionInfo": {
     "elapsed": 799,
     "status": "ok",
     "timestamp": 1595411638982,
     "user": {
      "displayName": "Keep Music Weird",
      "photoUrl": "https://lh3.googleusercontent.com/a-/AOh14Gi9IyYwcNDdJY9RrMvpMOuSI7FIspu0Dy8OyRZaVg=s64",
      "userId": "00063312648037822198"
     },
     "user_tz": -60
    },
    "id": "Tpep17qWaavg"
   },
   "outputs": [],
   "source": [
    "messages.reset_index(inplace=True)"
   ]
  },
  {
   "cell_type": "code",
   "execution_count": 27,
   "metadata": {
    "colab": {
     "base_uri": "https://localhost:8080/",
     "height": 204
    },
    "colab_type": "code",
    "executionInfo": {
     "elapsed": 799,
     "status": "ok",
     "timestamp": 1595411659735,
     "user": {
      "displayName": "Keep Music Weird",
      "photoUrl": "https://lh3.googleusercontent.com/a-/AOh14Gi9IyYwcNDdJY9RrMvpMOuSI7FIspu0Dy8OyRZaVg=s64",
      "userId": "00063312648037822198"
     },
     "user_tz": -60
    },
    "id": "zSx6a8yTaavk",
    "outputId": "cad686e4-e143-41df-dcf5-2ecc0364eca6"
   },
   "outputs": [
    {
     "data": {
      "text/html": [
       "<div>\n",
       "<style scoped>\n",
       "    .dataframe tbody tr th:only-of-type {\n",
       "        vertical-align: middle;\n",
       "    }\n",
       "\n",
       "    .dataframe tbody tr th {\n",
       "        vertical-align: top;\n",
       "    }\n",
       "\n",
       "    .dataframe thead th {\n",
       "        text-align: right;\n",
       "    }\n",
       "</style>\n",
       "<table border=\"1\" class=\"dataframe\">\n",
       "  <thead>\n",
       "    <tr style=\"text-align: right;\">\n",
       "      <th></th>\n",
       "      <th>index</th>\n",
       "      <th>title</th>\n",
       "      <th>text</th>\n",
       "      <th>subject</th>\n",
       "      <th>date</th>\n",
       "      <th>label</th>\n",
       "    </tr>\n",
       "  </thead>\n",
       "  <tbody>\n",
       "    <tr>\n",
       "      <th>0</th>\n",
       "      <td>0</td>\n",
       "      <td>Zach Johnson, Pieters share lead at Firestone</td>\n",
       "      <td>(Reuters) - Late birdies from Thomas Pieters a...</td>\n",
       "      <td>politicsNews</td>\n",
       "      <td>August 5, 2017</td>\n",
       "      <td>1</td>\n",
       "    </tr>\n",
       "    <tr>\n",
       "      <th>1</th>\n",
       "      <td>1</td>\n",
       "      <td>House Speaker Ryan sees long battle over tax r...</td>\n",
       "      <td>LONDON (Reuters) - The United States’ first ta...</td>\n",
       "      <td>politicsNews</td>\n",
       "      <td>April 19, 2017</td>\n",
       "      <td>1</td>\n",
       "    </tr>\n",
       "    <tr>\n",
       "      <th>2</th>\n",
       "      <td>2</td>\n",
       "      <td>Exclusive: U.S. asks nations to provide more t...</td>\n",
       "      <td>WASHINGTON (Reuters) - The U.S. State Departme...</td>\n",
       "      <td>politicsNews</td>\n",
       "      <td>July 13, 2017</td>\n",
       "      <td>1</td>\n",
       "    </tr>\n",
       "    <tr>\n",
       "      <th>3</th>\n",
       "      <td>3</td>\n",
       "      <td>The Cast Of Hamilton Had An EXTRAORDINARY Mes...</td>\n",
       "      <td>Donald Trump is now the president-elect, and h...</td>\n",
       "      <td>News</td>\n",
       "      <td>November 19, 2016</td>\n",
       "      <td>0</td>\n",
       "    </tr>\n",
       "    <tr>\n",
       "      <th>4</th>\n",
       "      <td>4</td>\n",
       "      <td>Trump Just Got His P*ssy Handed To Him By New...</td>\n",
       "      <td>Donald Trump bit off a bit more than he could ...</td>\n",
       "      <td>News</td>\n",
       "      <td>November 17, 2017</td>\n",
       "      <td>0</td>\n",
       "    </tr>\n",
       "  </tbody>\n",
       "</table>\n",
       "</div>"
      ],
      "text/plain": [
       "   index  ... label\n",
       "0      0  ...     1\n",
       "1      1  ...     1\n",
       "2      2  ...     1\n",
       "3      3  ...     0\n",
       "4      4  ...     0\n",
       "\n",
       "[5 rows x 6 columns]"
      ]
     },
     "execution_count": 27,
     "metadata": {
      "tags": []
     },
     "output_type": "execute_result"
    }
   ],
   "source": [
    "messages.head()"
   ]
  },
  {
   "cell_type": "code",
   "execution_count": 28,
   "metadata": {
    "colab": {
     "base_uri": "https://localhost:8080/",
     "height": 35
    },
    "colab_type": "code",
    "executionInfo": {
     "elapsed": 927,
     "status": "ok",
     "timestamp": 1595411669961,
     "user": {
      "displayName": "Keep Music Weird",
      "photoUrl": "https://lh3.googleusercontent.com/a-/AOh14Gi9IyYwcNDdJY9RrMvpMOuSI7FIspu0Dy8OyRZaVg=s64",
      "userId": "00063312648037822198"
     },
     "user_tz": -60
    },
    "id": "qaSRuMGMaavp",
    "outputId": "313e9e3a-d74a-43a1-b7d8-e1975884fc28"
   },
   "outputs": [
    {
     "data": {
      "application/vnd.google.colaboratory.intrinsic": {
       "type": "string"
      },
      "text/plain": [
       "'Exclusive: U.S. asks nations to provide more traveler data or face sanctions'"
      ]
     },
     "execution_count": 28,
     "metadata": {
      "tags": []
     },
     "output_type": "execute_result"
    }
   ],
   "source": [
    "messages['title'][2]"
   ]
  },
  {
   "cell_type": "code",
   "execution_count": 29,
   "metadata": {
    "colab": {
     "base_uri": "https://localhost:8080/",
     "height": 137
    },
    "colab_type": "code",
    "executionInfo": {
     "elapsed": 818,
     "status": "ok",
     "timestamp": 1595411674117,
     "user": {
      "displayName": "Keep Music Weird",
      "photoUrl": "https://lh3.googleusercontent.com/a-/AOh14Gi9IyYwcNDdJY9RrMvpMOuSI7FIspu0Dy8OyRZaVg=s64",
      "userId": "00063312648037822198"
     },
     "user_tz": -60
    },
    "id": "0Uv90s91aavu",
    "outputId": "b57593da-1909-44fc-d7e0-50a83fcc54dc"
   },
   "outputs": [
    {
     "data": {
      "application/vnd.google.colaboratory.intrinsic": {
       "type": "string"
      },
      "text/plain": [
       "'WASHINGTON (Reuters) - The U.S. State Department will require all nations to provide extensive data to help it vet visa applicants and determine whether a traveler poses a terrorist threat, according to a cable obtained by Reuters.  Countries that fail to comply with the new protocols or take steps to do so within 50 days could face travel sanctions.  The cable, sent to all U.S. diplomatic posts on Wednesday,  is a summary of a worldwide review of vetting procedures that was required under U.S. President Donald Trump’s revised March 6 executive order that temporarily banned U.S. travel by most citizens from six predominantly Muslim countries. The memo lays out a series of standards the United States will require of other countries, including that they issue, or have active plans to issue, electronic passports and regularly report lost and stolen passports to INTERPOL.  It also directs nations to provide “any other identity information” requested by Washington for U.S. visa applicants, including biometric or biographic details. The cable sets out requirements for countries to provide data on individuals it knows or has grounds to believe are terrorists as well as criminal record information.  Further, countries are asked not to block the transfer of information about U.S.-bound travelers to the U.S. government and not to designate people for travel watchlists based solely on their political or religious beliefs. “This is the first time that the U.S. Government is setting standards for the information that is required from all countries specifically in support of immigration and traveler vetting,” the cable said.  The cable can be read here: (reut.rs/2untHTl). The new requirements are the latest in a series of steps the Trump administration says it is taking to better protect the United States from terrorist attack.     However, former officials said much of the information sought is routinely shared between countries, including examples of passports and additional details about particular travelers that may present security concerns.  Some U.S. allies may worry about privacy protections if Washington is seen as seeking information beyond what is already shared, said John Sandweg, a former senior Homeland Security Department official now with the firm Frontier Solutions. “I don’t think you can ignore the political aspects of the unpopularity of the current administration. That puts political pressure to stand up to the administration,” he said. The cable lays out risk factors the U.S. government will consider when evaluating a country. Some of these are controversial and could be difficult for countries to prove to U.S. satisfaction, including ensuring “that they are not and do not have the potential to become a terrorist safe haven.” Countries are also expected to agree to take back citizens ordered removed from the United States. If they do not provide the information requested, or come up with an adequate plan to, countries could end up on a list to be submitted to Trump for possible sanction, including barring “categories” of their citizens from entering the United States. The real worries for countries may not come until the results of this review are known, said Leon Rodriguez, the former director of U.S. Citizenship and Immigration Services. “Once they start making decisions I think that is where there is going to be a lot of anxiety,” he said, saying delays in visa processing for nations that do not pose much of a threat could start to hurt “ordinary business and personal travel.” The most controversial of Trump’s immigration-related moves are two executive orders, challenged in federal court, which impose a temporary ban on travel to the United States for most citizens from Iran, Libya, Somalia, Sudan, Syria, and Yemen.  While the orders were initially blocked from being enforced, the Supreme Court on June 26 allowed the ban to go into effect for people from the six nations with no strong ties to the United States.  The cable requires countries to act quickly, but stressed that the United States would work with foreign nations to assess if they meet the standards and, if not, to come up with a plan to help them do so. The cable asks that U.S. diplomats “underscore that while it is not our goal to impose a ban on immigration benefits, including visas, for citizens of any country, these standards are designed to mitigate risk, and failure to make progress could lead to security measures by the USG, including a presidential proclamation that would prohibit the entry of certain categories of foreign nationals of non-compliant countries.” The cable says the U.S. government has made a preliminary determination that some countries do not meet the new standards and that others are “at risk” of not meeting them. It does not name these, listing them in a separate, classified cable. The State Department declined comment on the cable, saying it would not discuss internal communications. “The U.S. government’s national security screening and vetting procedures for visitors are constantly reviewed and refined to improve security and more effectively identify individuals who could pose a threat to the United States,” said a U.S. State Department official on condition of anonymity. '"
      ]
     },
     "execution_count": 29,
     "metadata": {
      "tags": []
     },
     "output_type": "execute_result"
    }
   ],
   "source": [
    "messages['text'][2]"
   ]
  },
  {
   "cell_type": "markdown",
   "metadata": {
    "colab_type": "text",
    "id": "1cuZmsazaavy"
   },
   "source": [
    "### Preprocessing"
   ]
  },
  {
   "cell_type": "code",
   "execution_count": 30,
   "metadata": {
    "colab": {},
    "colab_type": "code",
    "executionInfo": {
     "elapsed": 1774,
     "status": "ok",
     "timestamp": 1595411691541,
     "user": {
      "displayName": "Keep Music Weird",
      "photoUrl": "https://lh3.googleusercontent.com/a-/AOh14Gi9IyYwcNDdJY9RrMvpMOuSI7FIspu0Dy8OyRZaVg=s64",
      "userId": "00063312648037822198"
     },
     "user_tz": -60
    },
    "id": "NxdHcIjCaavz"
   },
   "outputs": [],
   "source": [
    "from nltk.corpus import stopwords\n",
    "from nltk.stem.porter import PorterStemmer\n",
    "ps = PorterStemmer()"
   ]
  },
  {
   "cell_type": "code",
   "execution_count": 31,
   "metadata": {
    "colab": {
     "base_uri": "https://localhost:8080/",
     "height": 51
    },
    "colab_type": "code",
    "executionInfo": {
     "elapsed": 493677,
     "status": "ok",
     "timestamp": 1595412194609,
     "user": {
      "displayName": "Keep Music Weird",
      "photoUrl": "https://lh3.googleusercontent.com/a-/AOh14Gi9IyYwcNDdJY9RrMvpMOuSI7FIspu0Dy8OyRZaVg=s64",
      "userId": "00063312648037822198"
     },
     "user_tz": -60
    },
    "id": "nQG6jyOqaav3",
    "outputId": "5bb3b6f6-91f9-48fc-d675-dbe5436e5fd1"
   },
   "outputs": [
    {
     "name": "stdout",
     "output_type": "stream",
     "text": [
      "[nltk_data] Downloading package stopwords to /root/nltk_data...\n",
      "[nltk_data]   Unzipping corpora/stopwords.zip.\n"
     ]
    }
   ],
   "source": [
    "import re\n",
    "import nltk\n",
    "nltk.download('stopwords')\n",
    "\n",
    "corpus = []\n",
    "for i in range(0, len(messages)):\n",
    "    review = re.sub('[^a-zA-Z]', ' ', messages['text'][i])\n",
    "    review = review.lower()\n",
    "    review = review.split()\n",
    "    \n",
    "    review = [ps.stem(word) for word in review if not word in stopwords.words('english')]\n",
    "    review = ' '.join(review)\n",
    "    corpus.append(review)"
   ]
  },
  {
   "cell_type": "code",
   "execution_count": 32,
   "metadata": {
    "colab": {
     "base_uri": "https://localhost:8080/",
     "height": 34
    },
    "colab_type": "code",
    "executionInfo": {
     "elapsed": 793,
     "status": "ok",
     "timestamp": 1595412216062,
     "user": {
      "displayName": "Keep Music Weird",
      "photoUrl": "https://lh3.googleusercontent.com/a-/AOh14Gi9IyYwcNDdJY9RrMvpMOuSI7FIspu0Dy8OyRZaVg=s64",
      "userId": "00063312648037822198"
     },
     "user_tz": -60
    },
    "id": "AF-UqGbbhFEw",
    "outputId": "d53c794d-2a32-47a8-9ef1-85906f9ea64e"
   },
   "outputs": [
    {
     "data": {
      "text/plain": [
       "10002"
      ]
     },
     "execution_count": 32,
     "metadata": {
      "tags": []
     },
     "output_type": "execute_result"
    }
   ],
   "source": [
    "len(corpus)"
   ]
  },
  {
   "cell_type": "code",
   "execution_count": 33,
   "metadata": {
    "colab": {},
    "colab_type": "code",
    "executionInfo": {
     "elapsed": 894,
     "status": "ok",
     "timestamp": 1595412233928,
     "user": {
      "displayName": "Keep Music Weird",
      "photoUrl": "https://lh3.googleusercontent.com/a-/AOh14Gi9IyYwcNDdJY9RrMvpMOuSI7FIspu0Dy8OyRZaVg=s64",
      "userId": "00063312648037822198"
     },
     "user_tz": -60
    },
    "id": "1SeZ_i3Baav7"
   },
   "outputs": [],
   "source": [
    "## TFidf Vectorizer\n",
    "from sklearn.feature_extraction.text import TfidfVectorizer\n",
    "\n",
    "tfidf_v = TfidfVectorizer(max_features=5000, ngram_range=(1,3))"
   ]
  },
  {
   "cell_type": "code",
   "execution_count": 34,
   "metadata": {
    "colab": {
     "base_uri": "https://localhost:8080/",
     "height": 374
    },
    "colab_type": "code",
    "executionInfo": {
     "elapsed": 903,
     "status": "ok",
     "timestamp": 1595412237154,
     "user": {
      "displayName": "Keep Music Weird",
      "photoUrl": "https://lh3.googleusercontent.com/a-/AOh14Gi9IyYwcNDdJY9RrMvpMOuSI7FIspu0Dy8OyRZaVg=s64",
      "userId": "00063312648037822198"
     },
     "user_tz": -60
    },
    "id": "9lAsvIwEaav_",
    "outputId": "250f5328-b026-47a0-c511-302a40903bd2"
   },
   "outputs": [
    {
     "data": {
      "text/plain": [
       "{'analyzer': 'word',\n",
       " 'binary': False,\n",
       " 'decode_error': 'strict',\n",
       " 'dtype': numpy.float64,\n",
       " 'encoding': 'utf-8',\n",
       " 'input': 'content',\n",
       " 'lowercase': True,\n",
       " 'max_df': 1.0,\n",
       " 'max_features': 5000,\n",
       " 'min_df': 1,\n",
       " 'ngram_range': (1, 3),\n",
       " 'norm': 'l2',\n",
       " 'preprocessor': None,\n",
       " 'smooth_idf': True,\n",
       " 'stop_words': None,\n",
       " 'strip_accents': None,\n",
       " 'sublinear_tf': False,\n",
       " 'token_pattern': '(?u)\\\\b\\\\w\\\\w+\\\\b',\n",
       " 'tokenizer': None,\n",
       " 'use_idf': True,\n",
       " 'vocabulary': None}"
      ]
     },
     "execution_count": 34,
     "metadata": {
      "tags": []
     },
     "output_type": "execute_result"
    }
   ],
   "source": [
    "tfidf_v.get_params()"
   ]
  },
  {
   "cell_type": "code",
   "execution_count": 35,
   "metadata": {
    "colab": {},
    "colab_type": "code",
    "executionInfo": {
     "elapsed": 25113,
     "status": "ok",
     "timestamp": 1595412277825,
     "user": {
      "displayName": "Keep Music Weird",
      "photoUrl": "https://lh3.googleusercontent.com/a-/AOh14Gi9IyYwcNDdJY9RrMvpMOuSI7FIspu0Dy8OyRZaVg=s64",
      "userId": "00063312648037822198"
     },
     "user_tz": -60
    },
    "id": "p8kKe91LaawM"
   },
   "outputs": [],
   "source": [
    "X = tfidf_v.fit_transform(corpus).toarray()\n",
    "y = messages['label']"
   ]
  },
  {
   "cell_type": "code",
   "execution_count": 36,
   "metadata": {
    "colab": {},
    "colab_type": "code",
    "executionInfo": {
     "elapsed": 834,
     "status": "ok",
     "timestamp": 1595412296543,
     "user": {
      "displayName": "Keep Music Weird",
      "photoUrl": "https://lh3.googleusercontent.com/a-/AOh14Gi9IyYwcNDdJY9RrMvpMOuSI7FIspu0Dy8OyRZaVg=s64",
      "userId": "00063312648037822198"
     },
     "user_tz": -60
    },
    "id": "wF760bkkaawQ"
   },
   "outputs": [],
   "source": [
    "## Divide the dataset into Train and Test\n",
    "from sklearn.model_selection import train_test_split\n",
    "\n",
    "X_train, X_test, y_train, y_test = train_test_split(X, y, test_size=0.2, random_state=0)"
   ]
  },
  {
   "cell_type": "code",
   "execution_count": 37,
   "metadata": {
    "colab": {
     "base_uri": "https://localhost:8080/",
     "height": 225
    },
    "colab_type": "code",
    "executionInfo": {
     "elapsed": 858,
     "status": "ok",
     "timestamp": 1595412301194,
     "user": {
      "displayName": "Keep Music Weird",
      "photoUrl": "https://lh3.googleusercontent.com/a-/AOh14Gi9IyYwcNDdJY9RrMvpMOuSI7FIspu0Dy8OyRZaVg=s64",
      "userId": "00063312648037822198"
     },
     "user_tz": -60
    },
    "id": "w4eJ0YPraawU",
    "outputId": "182d684b-35fc-4747-b552-95b7577dedaa"
   },
   "outputs": [
    {
     "data": {
      "text/html": [
       "<div>\n",
       "<style scoped>\n",
       "    .dataframe tbody tr th:only-of-type {\n",
       "        vertical-align: middle;\n",
       "    }\n",
       "\n",
       "    .dataframe tbody tr th {\n",
       "        vertical-align: top;\n",
       "    }\n",
       "\n",
       "    .dataframe thead th {\n",
       "        text-align: right;\n",
       "    }\n",
       "</style>\n",
       "<table border=\"1\" class=\"dataframe\">\n",
       "  <thead>\n",
       "    <tr style=\"text-align: right;\">\n",
       "      <th></th>\n",
       "      <th>abandon</th>\n",
       "      <th>abc</th>\n",
       "      <th>abc news</th>\n",
       "      <th>abe</th>\n",
       "      <th>abil</th>\n",
       "      <th>abl</th>\n",
       "      <th>abort</th>\n",
       "      <th>abroad</th>\n",
       "      <th>absolut</th>\n",
       "      <th>absurd</th>\n",
       "      <th>abus</th>\n",
       "      <th>aca</th>\n",
       "      <th>accept</th>\n",
       "      <th>access</th>\n",
       "      <th>accompani</th>\n",
       "      <th>accomplish</th>\n",
       "      <th>accord</th>\n",
       "      <th>accord new</th>\n",
       "      <th>account</th>\n",
       "      <th>account presid</th>\n",
       "      <th>account presid donald</th>\n",
       "      <th>accur</th>\n",
       "      <th>accuraci</th>\n",
       "      <th>accuraci realdonaldtrump</th>\n",
       "      <th>accus</th>\n",
       "      <th>accus presid</th>\n",
       "      <th>accus trump</th>\n",
       "      <th>achiev</th>\n",
       "      <th>acknowledg</th>\n",
       "      <th>aclu</th>\n",
       "      <th>acosta</th>\n",
       "      <th>across</th>\n",
       "      <th>across countri</th>\n",
       "      <th>act</th>\n",
       "      <th>act like</th>\n",
       "      <th>action</th>\n",
       "      <th>action childhood</th>\n",
       "      <th>action childhood arriv</th>\n",
       "      <th>activ</th>\n",
       "      <th>activist</th>\n",
       "      <th>...</th>\n",
       "      <th>writer</th>\n",
       "      <th>written</th>\n",
       "      <th>wrong</th>\n",
       "      <th>wrongdo</th>\n",
       "      <th>wrote</th>\n",
       "      <th>wrote letter</th>\n",
       "      <th>wrote twitter</th>\n",
       "      <th>wyden</th>\n",
       "      <th>xi</th>\n",
       "      <th>xi jinp</th>\n",
       "      <th>yate</th>\n",
       "      <th>ye</th>\n",
       "      <th>yeah</th>\n",
       "      <th>year</th>\n",
       "      <th>year ago</th>\n",
       "      <th>year elect</th>\n",
       "      <th>year end</th>\n",
       "      <th>year old</th>\n",
       "      <th>year presidenti</th>\n",
       "      <th>year republican</th>\n",
       "      <th>year trump</th>\n",
       "      <th>yell</th>\n",
       "      <th>yellen</th>\n",
       "      <th>yemen</th>\n",
       "      <th>yesterday</th>\n",
       "      <th>yet</th>\n",
       "      <th>yet anoth</th>\n",
       "      <th>yield</th>\n",
       "      <th>york</th>\n",
       "      <th>york citi</th>\n",
       "      <th>york reuter</th>\n",
       "      <th>york time</th>\n",
       "      <th>york time report</th>\n",
       "      <th>young</th>\n",
       "      <th>young peopl</th>\n",
       "      <th>younger</th>\n",
       "      <th>youtub</th>\n",
       "      <th>zero</th>\n",
       "      <th>zink</th>\n",
       "      <th>zone</th>\n",
       "    </tr>\n",
       "  </thead>\n",
       "  <tbody>\n",
       "    <tr>\n",
       "      <th>0</th>\n",
       "      <td>0.0</td>\n",
       "      <td>0.0</td>\n",
       "      <td>0.0</td>\n",
       "      <td>0.0</td>\n",
       "      <td>0.0</td>\n",
       "      <td>0.03832</td>\n",
       "      <td>0.0</td>\n",
       "      <td>0.0</td>\n",
       "      <td>0.0</td>\n",
       "      <td>0.0</td>\n",
       "      <td>0.0</td>\n",
       "      <td>0.0</td>\n",
       "      <td>0.043624</td>\n",
       "      <td>0.00000</td>\n",
       "      <td>0.0</td>\n",
       "      <td>0.0</td>\n",
       "      <td>0.000000</td>\n",
       "      <td>0.0</td>\n",
       "      <td>0.0</td>\n",
       "      <td>0.0</td>\n",
       "      <td>0.0</td>\n",
       "      <td>0.0</td>\n",
       "      <td>0.0</td>\n",
       "      <td>0.0</td>\n",
       "      <td>0.0</td>\n",
       "      <td>0.0</td>\n",
       "      <td>0.0</td>\n",
       "      <td>0.0</td>\n",
       "      <td>0.0</td>\n",
       "      <td>0.0</td>\n",
       "      <td>0.0</td>\n",
       "      <td>0.0</td>\n",
       "      <td>0.0</td>\n",
       "      <td>0.030131</td>\n",
       "      <td>0.0</td>\n",
       "      <td>0.033505</td>\n",
       "      <td>0.0</td>\n",
       "      <td>0.0</td>\n",
       "      <td>0.042655</td>\n",
       "      <td>0.0</td>\n",
       "      <td>...</td>\n",
       "      <td>0.0</td>\n",
       "      <td>0.0</td>\n",
       "      <td>0.0</td>\n",
       "      <td>0.0</td>\n",
       "      <td>0.0</td>\n",
       "      <td>0.0</td>\n",
       "      <td>0.0</td>\n",
       "      <td>0.0</td>\n",
       "      <td>0.0</td>\n",
       "      <td>0.0</td>\n",
       "      <td>0.0</td>\n",
       "      <td>0.0</td>\n",
       "      <td>0.0</td>\n",
       "      <td>0.041283</td>\n",
       "      <td>0.0</td>\n",
       "      <td>0.0</td>\n",
       "      <td>0.0</td>\n",
       "      <td>0.0</td>\n",
       "      <td>0.0</td>\n",
       "      <td>0.0</td>\n",
       "      <td>0.0</td>\n",
       "      <td>0.0</td>\n",
       "      <td>0.0</td>\n",
       "      <td>0.0</td>\n",
       "      <td>0.0</td>\n",
       "      <td>0.0</td>\n",
       "      <td>0.0</td>\n",
       "      <td>0.0</td>\n",
       "      <td>0.0</td>\n",
       "      <td>0.0</td>\n",
       "      <td>0.0</td>\n",
       "      <td>0.0</td>\n",
       "      <td>0.0</td>\n",
       "      <td>0.0</td>\n",
       "      <td>0.0</td>\n",
       "      <td>0.0</td>\n",
       "      <td>0.0</td>\n",
       "      <td>0.0</td>\n",
       "      <td>0.0</td>\n",
       "      <td>0.0</td>\n",
       "    </tr>\n",
       "    <tr>\n",
       "      <th>1</th>\n",
       "      <td>0.0</td>\n",
       "      <td>0.0</td>\n",
       "      <td>0.0</td>\n",
       "      <td>0.0</td>\n",
       "      <td>0.0</td>\n",
       "      <td>0.00000</td>\n",
       "      <td>0.0</td>\n",
       "      <td>0.0</td>\n",
       "      <td>0.0</td>\n",
       "      <td>0.0</td>\n",
       "      <td>0.0</td>\n",
       "      <td>0.0</td>\n",
       "      <td>0.000000</td>\n",
       "      <td>0.00000</td>\n",
       "      <td>0.0</td>\n",
       "      <td>0.0</td>\n",
       "      <td>0.000000</td>\n",
       "      <td>0.0</td>\n",
       "      <td>0.0</td>\n",
       "      <td>0.0</td>\n",
       "      <td>0.0</td>\n",
       "      <td>0.0</td>\n",
       "      <td>0.0</td>\n",
       "      <td>0.0</td>\n",
       "      <td>0.0</td>\n",
       "      <td>0.0</td>\n",
       "      <td>0.0</td>\n",
       "      <td>0.0</td>\n",
       "      <td>0.0</td>\n",
       "      <td>0.0</td>\n",
       "      <td>0.0</td>\n",
       "      <td>0.0</td>\n",
       "      <td>0.0</td>\n",
       "      <td>0.000000</td>\n",
       "      <td>0.0</td>\n",
       "      <td>0.000000</td>\n",
       "      <td>0.0</td>\n",
       "      <td>0.0</td>\n",
       "      <td>0.000000</td>\n",
       "      <td>0.0</td>\n",
       "      <td>...</td>\n",
       "      <td>0.0</td>\n",
       "      <td>0.0</td>\n",
       "      <td>0.0</td>\n",
       "      <td>0.0</td>\n",
       "      <td>0.0</td>\n",
       "      <td>0.0</td>\n",
       "      <td>0.0</td>\n",
       "      <td>0.0</td>\n",
       "      <td>0.0</td>\n",
       "      <td>0.0</td>\n",
       "      <td>0.0</td>\n",
       "      <td>0.0</td>\n",
       "      <td>0.0</td>\n",
       "      <td>0.085349</td>\n",
       "      <td>0.0</td>\n",
       "      <td>0.0</td>\n",
       "      <td>0.0</td>\n",
       "      <td>0.0</td>\n",
       "      <td>0.0</td>\n",
       "      <td>0.0</td>\n",
       "      <td>0.0</td>\n",
       "      <td>0.0</td>\n",
       "      <td>0.0</td>\n",
       "      <td>0.0</td>\n",
       "      <td>0.0</td>\n",
       "      <td>0.0</td>\n",
       "      <td>0.0</td>\n",
       "      <td>0.0</td>\n",
       "      <td>0.0</td>\n",
       "      <td>0.0</td>\n",
       "      <td>0.0</td>\n",
       "      <td>0.0</td>\n",
       "      <td>0.0</td>\n",
       "      <td>0.0</td>\n",
       "      <td>0.0</td>\n",
       "      <td>0.0</td>\n",
       "      <td>0.0</td>\n",
       "      <td>0.0</td>\n",
       "      <td>0.0</td>\n",
       "      <td>0.0</td>\n",
       "    </tr>\n",
       "    <tr>\n",
       "      <th>2</th>\n",
       "      <td>0.0</td>\n",
       "      <td>0.0</td>\n",
       "      <td>0.0</td>\n",
       "      <td>0.0</td>\n",
       "      <td>0.0</td>\n",
       "      <td>0.00000</td>\n",
       "      <td>0.0</td>\n",
       "      <td>0.0</td>\n",
       "      <td>0.0</td>\n",
       "      <td>0.0</td>\n",
       "      <td>0.0</td>\n",
       "      <td>0.0</td>\n",
       "      <td>0.000000</td>\n",
       "      <td>0.08072</td>\n",
       "      <td>0.0</td>\n",
       "      <td>0.0</td>\n",
       "      <td>0.025289</td>\n",
       "      <td>0.0</td>\n",
       "      <td>0.0</td>\n",
       "      <td>0.0</td>\n",
       "      <td>0.0</td>\n",
       "      <td>0.0</td>\n",
       "      <td>0.0</td>\n",
       "      <td>0.0</td>\n",
       "      <td>0.0</td>\n",
       "      <td>0.0</td>\n",
       "      <td>0.0</td>\n",
       "      <td>0.0</td>\n",
       "      <td>0.0</td>\n",
       "      <td>0.0</td>\n",
       "      <td>0.0</td>\n",
       "      <td>0.0</td>\n",
       "      <td>0.0</td>\n",
       "      <td>0.000000</td>\n",
       "      <td>0.0</td>\n",
       "      <td>0.000000</td>\n",
       "      <td>0.0</td>\n",
       "      <td>0.0</td>\n",
       "      <td>0.000000</td>\n",
       "      <td>0.0</td>\n",
       "      <td>...</td>\n",
       "      <td>0.0</td>\n",
       "      <td>0.0</td>\n",
       "      <td>0.0</td>\n",
       "      <td>0.0</td>\n",
       "      <td>0.0</td>\n",
       "      <td>0.0</td>\n",
       "      <td>0.0</td>\n",
       "      <td>0.0</td>\n",
       "      <td>0.0</td>\n",
       "      <td>0.0</td>\n",
       "      <td>0.0</td>\n",
       "      <td>0.0</td>\n",
       "      <td>0.0</td>\n",
       "      <td>0.000000</td>\n",
       "      <td>0.0</td>\n",
       "      <td>0.0</td>\n",
       "      <td>0.0</td>\n",
       "      <td>0.0</td>\n",
       "      <td>0.0</td>\n",
       "      <td>0.0</td>\n",
       "      <td>0.0</td>\n",
       "      <td>0.0</td>\n",
       "      <td>0.0</td>\n",
       "      <td>0.0</td>\n",
       "      <td>0.0</td>\n",
       "      <td>0.0</td>\n",
       "      <td>0.0</td>\n",
       "      <td>0.0</td>\n",
       "      <td>0.0</td>\n",
       "      <td>0.0</td>\n",
       "      <td>0.0</td>\n",
       "      <td>0.0</td>\n",
       "      <td>0.0</td>\n",
       "      <td>0.0</td>\n",
       "      <td>0.0</td>\n",
       "      <td>0.0</td>\n",
       "      <td>0.0</td>\n",
       "      <td>0.0</td>\n",
       "      <td>0.0</td>\n",
       "      <td>0.0</td>\n",
       "    </tr>\n",
       "  </tbody>\n",
       "</table>\n",
       "<p>3 rows × 5000 columns</p>\n",
       "</div>"
      ],
      "text/plain": [
       "   abandon  abc  abc news  abe  abil  ...  younger  youtub  zero  zink  zone\n",
       "0      0.0  0.0       0.0  0.0   0.0  ...      0.0     0.0   0.0   0.0   0.0\n",
       "1      0.0  0.0       0.0  0.0   0.0  ...      0.0     0.0   0.0   0.0   0.0\n",
       "2      0.0  0.0       0.0  0.0   0.0  ...      0.0     0.0   0.0   0.0   0.0\n",
       "\n",
       "[3 rows x 5000 columns]"
      ]
     },
     "execution_count": 37,
     "metadata": {
      "tags": []
     },
     "output_type": "execute_result"
    }
   ],
   "source": [
    "count_df = pd.DataFrame(X_train, columns=tfidf_v.get_feature_names())\n",
    "count_df.head(3)"
   ]
  },
  {
   "cell_type": "markdown",
   "metadata": {
    "colab_type": "text",
    "id": "OwA5_F5saawZ"
   },
   "source": [
    "### Passive Aggressive Classifier - Baseline"
   ]
  },
  {
   "cell_type": "code",
   "execution_count": 38,
   "metadata": {
    "colab": {},
    "colab_type": "code",
    "executionInfo": {
     "elapsed": 743,
     "status": "ok",
     "timestamp": 1595412318961,
     "user": {
      "displayName": "Keep Music Weird",
      "photoUrl": "https://lh3.googleusercontent.com/a-/AOh14Gi9IyYwcNDdJY9RrMvpMOuSI7FIspu0Dy8OyRZaVg=s64",
      "userId": "00063312648037822198"
     },
     "user_tz": -60
    },
    "id": "hwNEWGLQaawZ"
   },
   "outputs": [],
   "source": [
    "from sklearn.linear_model import PassiveAggressiveClassifier\n",
    "classifier = PassiveAggressiveClassifier(max_iter=1000)"
   ]
  },
  {
   "cell_type": "code",
   "execution_count": 39,
   "metadata": {
    "colab": {
     "base_uri": "https://localhost:8080/",
     "height": 34
    },
    "colab_type": "code",
    "executionInfo": {
     "elapsed": 2082,
     "status": "ok",
     "timestamp": 1595412323708,
     "user": {
      "displayName": "Keep Music Weird",
      "photoUrl": "https://lh3.googleusercontent.com/a-/AOh14Gi9IyYwcNDdJY9RrMvpMOuSI7FIspu0Dy8OyRZaVg=s64",
      "userId": "00063312648037822198"
     },
     "user_tz": -60
    },
    "id": "3yJhqJ3aaawd",
    "outputId": "cb9e138f-90d3-4e1f-f433-0f213c8e4a5f"
   },
   "outputs": [
    {
     "name": "stdout",
     "output_type": "stream",
     "text": [
      "accuracy:   0.998\n"
     ]
    }
   ],
   "source": [
    "from sklearn import metrics\n",
    "import numpy as np\n",
    "import itertools\n",
    "\n",
    "classifier.fit(X_train, y_train)\n",
    "\n",
    "pred = classifier.predict(X_test)\n",
    "\n",
    "score = metrics.accuracy_score(y_test, pred)\n",
    "print(\"accuracy:   %0.3f\" % score)"
   ]
  },
  {
   "cell_type": "code",
   "execution_count": 40,
   "metadata": {
    "colab": {},
    "colab_type": "code",
    "executionInfo": {
     "elapsed": 824,
     "status": "ok",
     "timestamp": 1595412328762,
     "user": {
      "displayName": "Keep Music Weird",
      "photoUrl": "https://lh3.googleusercontent.com/a-/AOh14Gi9IyYwcNDdJY9RrMvpMOuSI7FIspu0Dy8OyRZaVg=s64",
      "userId": "00063312648037822198"
     },
     "user_tz": -60
    },
    "id": "UqqEobQzaawh"
   },
   "outputs": [],
   "source": [
    "import matplotlib.pyplot as plt\n",
    "\n",
    "def plot_confusion_matrix(cm, classes,\n",
    "                          normalize=False,\n",
    "                          title='Confusion matrix',\n",
    "                          cmap=plt.cm.Blues):\n",
    "    \"\"\"\n",
    "    See full source and example: \n",
    "    http://scikit-learn.org/stable/auto_examples/model_selection/plot_confusion_matrix.html\n",
    "    \n",
    "    This function prints and plots the confusion matrix.\n",
    "    Normalization can be applied by setting `normalize=True`.\n",
    "    \"\"\"\n",
    "    plt.imshow(cm, interpolation='nearest', cmap=cmap)\n",
    "    plt.title(title)\n",
    "    plt.colorbar()\n",
    "    tick_marks = np.arange(len(classes))\n",
    "    plt.xticks(tick_marks, classes, rotation=45)\n",
    "    plt.yticks(tick_marks, classes)\n",
    "\n",
    "    if normalize:\n",
    "        cm = cm.astype('float') / cm.sum(axis=1)[:, np.newaxis]\n",
    "        print(\"Normalized confusion matrix\")\n",
    "    else:\n",
    "        print('Confusion matrix, without normalization')\n",
    "\n",
    "    thresh = cm.max() / 2.\n",
    "    for i, j in itertools.product(range(cm.shape[0]), range(cm.shape[1])):\n",
    "        plt.text(j, i, cm[i, j],\n",
    "                 horizontalalignment=\"center\",\n",
    "                 color=\"white\" if cm[i, j] > thresh else \"black\")\n",
    "\n",
    "    plt.tight_layout()\n",
    "    plt.ylabel('True label')\n",
    "    plt.xlabel('Predicted label')"
   ]
  },
  {
   "cell_type": "code",
   "execution_count": 41,
   "metadata": {
    "colab": {
     "base_uri": "https://localhost:8080/",
     "height": 328
    },
    "colab_type": "code",
    "executionInfo": {
     "elapsed": 894,
     "status": "ok",
     "timestamp": 1595412334383,
     "user": {
      "displayName": "Keep Music Weird",
      "photoUrl": "https://lh3.googleusercontent.com/a-/AOh14Gi9IyYwcNDdJY9RrMvpMOuSI7FIspu0Dy8OyRZaVg=s64",
      "userId": "00063312648037822198"
     },
     "user_tz": -60
    },
    "id": "VYoKWig_aawm",
    "outputId": "4ee10bee-1d53-4431-8c7d-19c96bf685e8"
   },
   "outputs": [
    {
     "name": "stdout",
     "output_type": "stream",
     "text": [
      "Confusion matrix, without normalization\n"
     ]
    },
    {
     "data": {
      "image/png": "[encoded data removed]",
      "text/plain": [
       "<Figure size 432x288 with 2 Axes>"
      ]
     },
     "metadata": {
      "needs_background": "light",
      "tags": []
     },
     "output_type": "display_data"
    }
   ],
   "source": [
    "cm = metrics.confusion_matrix(y_test, pred)\n",
    "plot_confusion_matrix(cm, classes=['FAKE', 'REAL'])"
   ]
  },
  {
   "cell_type": "code",
   "execution_count": 42,
   "metadata": {
    "colab": {
     "base_uri": "https://localhost:8080/",
     "height": 34
    },
    "colab_type": "code",
    "executionInfo": {
     "elapsed": 884,
     "status": "ok",
     "timestamp": 1595412339305,
     "user": {
      "displayName": "Keep Music Weird",
      "photoUrl": "https://lh3.googleusercontent.com/a-/AOh14Gi9IyYwcNDdJY9RrMvpMOuSI7FIspu0Dy8OyRZaVg=s64",
      "userId": "00063312648037822198"
     },
     "user_tz": -60
    },
    "id": "0bXWMP46j1gb",
    "outputId": "695b2442-29f0-494e-8736-4091d2e1c6f6"
   },
   "outputs": [
    {
     "data": {
      "text/plain": [
       "array([0, 0, 0, ..., 0, 1, 1])"
      ]
     },
     "execution_count": 42,
     "metadata": {
      "tags": []
     },
     "output_type": "execute_result"
    }
   ],
   "source": [
    "classifier.predict(X_test)"
   ]
  },
  {
   "cell_type": "markdown",
   "metadata": {
    "colab_type": "text",
    "id": "OTNEvDg-3Qyb"
   },
   "source": [
    "### Preprocess and transform datapoint text (true['text'][16888]) and try to predict it based on the model"
   ]
  },
  {
   "cell_type": "code",
   "execution_count": 43,
   "metadata": {
    "colab": {
     "base_uri": "https://localhost:8080/",
     "height": 103
    },
    "colab_type": "code",
    "executionInfo": {
     "elapsed": 778,
     "status": "ok",
     "timestamp": 1595412348910,
     "user": {
      "displayName": "Keep Music Weird",
      "photoUrl": "https://lh3.googleusercontent.com/a-/AOh14Gi9IyYwcNDdJY9RrMvpMOuSI7FIspu0Dy8OyRZaVg=s64",
      "userId": "00063312648037822198"
     },
     "user_tz": -60
    },
    "id": "dFnssWQvlDi4",
    "outputId": "4259f7a5-3e4b-4ebf-92d4-96b21ab2809a"
   },
   "outputs": [
    {
     "data": {
      "application/vnd.google.colaboratory.intrinsic": {
       "type": "string"
      },
      "text/plain": [
       "'cairo reuter three polic offic kill eight other injur shoot raid suspect milit hideout giza southwest egyptian capit two secur sourc said friday sourc said author follow lead apart thought hous eight suspect member hasm group claim sever attack around capit target judg policemen sinc last year suspect milit fled exchang fire sourc said egypt accus hasm milit wing muslim brotherhood islamist group outlaw muslim brotherhood deni islamist insurg sinai peninsula grown sinc militari overthrew presid moham mursi muslim brotherhood mid follow mass protest rule milit group stage insurg pledg allegi islam state blame kill hundr soldier policemen start target area includ egypt christian copt'"
      ]
     },
     "execution_count": 43,
     "metadata": {
      "tags": []
     },
     "output_type": "execute_result"
    }
   ],
   "source": [
    "review = re.sub('[^a-zA-Z]', ' ', true['text'][16888])\n",
    "review = review.lower()\n",
    "review = review.split()\n",
    "    \n",
    "review = [ps.stem(word) for word in review if not word in stopwords.words('english')]\n",
    "review = ' '.join(review)\n",
    "review"
   ]
  },
  {
   "cell_type": "code",
   "execution_count": 44,
   "metadata": {
    "colab": {},
    "colab_type": "code",
    "executionInfo": {
     "elapsed": 802,
     "status": "ok",
     "timestamp": 1595412355593,
     "user": {
      "displayName": "Keep Music Weird",
      "photoUrl": "https://lh3.googleusercontent.com/a-/AOh14Gi9IyYwcNDdJY9RrMvpMOuSI7FIspu0Dy8OyRZaVg=s64",
      "userId": "00063312648037822198"
     },
     "user_tz": -60
    },
    "id": "8iV2HnpQJbws"
   },
   "outputs": [],
   "source": [
    "val = tfidf_v.transform([review]).toarray()"
   ]
  },
  {
   "cell_type": "code",
   "execution_count": 45,
   "metadata": {
    "colab": {
     "base_uri": "https://localhost:8080/",
     "height": 163
    },
    "colab_type": "code",
    "executionInfo": {
     "elapsed": 1247,
     "status": "ok",
     "timestamp": 1595412359672,
     "user": {
      "displayName": "Keep Music Weird",
      "photoUrl": "https://lh3.googleusercontent.com/a-/AOh14Gi9IyYwcNDdJY9RrMvpMOuSI7FIspu0Dy8OyRZaVg=s64",
      "userId": "00063312648037822198"
     },
     "user_tz": -60
    },
    "id": "f62tMmybtiu4",
    "outputId": "7e6ed133-060c-4bd6-a031-1647aad533c1"
   },
   "outputs": [
    {
     "data": {
      "text/html": [
       "<div>\n",
       "<style scoped>\n",
       "    .dataframe tbody tr th:only-of-type {\n",
       "        vertical-align: middle;\n",
       "    }\n",
       "\n",
       "    .dataframe tbody tr th {\n",
       "        vertical-align: top;\n",
       "    }\n",
       "\n",
       "    .dataframe thead th {\n",
       "        text-align: right;\n",
       "    }\n",
       "</style>\n",
       "<table border=\"1\" class=\"dataframe\">\n",
       "  <thead>\n",
       "    <tr style=\"text-align: right;\">\n",
       "      <th></th>\n",
       "      <th>abandon</th>\n",
       "      <th>abc</th>\n",
       "      <th>abc news</th>\n",
       "      <th>abe</th>\n",
       "      <th>abil</th>\n",
       "      <th>abl</th>\n",
       "      <th>abort</th>\n",
       "      <th>abroad</th>\n",
       "      <th>absolut</th>\n",
       "      <th>absurd</th>\n",
       "      <th>abus</th>\n",
       "      <th>aca</th>\n",
       "      <th>accept</th>\n",
       "      <th>access</th>\n",
       "      <th>accompani</th>\n",
       "      <th>accomplish</th>\n",
       "      <th>accord</th>\n",
       "      <th>accord new</th>\n",
       "      <th>account</th>\n",
       "      <th>account presid</th>\n",
       "      <th>account presid donald</th>\n",
       "      <th>accur</th>\n",
       "      <th>accuraci</th>\n",
       "      <th>accuraci realdonaldtrump</th>\n",
       "      <th>accus</th>\n",
       "      <th>accus presid</th>\n",
       "      <th>accus trump</th>\n",
       "      <th>achiev</th>\n",
       "      <th>acknowledg</th>\n",
       "      <th>aclu</th>\n",
       "      <th>acosta</th>\n",
       "      <th>across</th>\n",
       "      <th>across countri</th>\n",
       "      <th>act</th>\n",
       "      <th>act like</th>\n",
       "      <th>action</th>\n",
       "      <th>action childhood</th>\n",
       "      <th>action childhood arriv</th>\n",
       "      <th>activ</th>\n",
       "      <th>activist</th>\n",
       "      <th>...</th>\n",
       "      <th>writer</th>\n",
       "      <th>written</th>\n",
       "      <th>wrong</th>\n",
       "      <th>wrongdo</th>\n",
       "      <th>wrote</th>\n",
       "      <th>wrote letter</th>\n",
       "      <th>wrote twitter</th>\n",
       "      <th>wyden</th>\n",
       "      <th>xi</th>\n",
       "      <th>xi jinp</th>\n",
       "      <th>yate</th>\n",
       "      <th>ye</th>\n",
       "      <th>yeah</th>\n",
       "      <th>year</th>\n",
       "      <th>year ago</th>\n",
       "      <th>year elect</th>\n",
       "      <th>year end</th>\n",
       "      <th>year old</th>\n",
       "      <th>year presidenti</th>\n",
       "      <th>year republican</th>\n",
       "      <th>year trump</th>\n",
       "      <th>yell</th>\n",
       "      <th>yellen</th>\n",
       "      <th>yemen</th>\n",
       "      <th>yesterday</th>\n",
       "      <th>yet</th>\n",
       "      <th>yet anoth</th>\n",
       "      <th>yield</th>\n",
       "      <th>york</th>\n",
       "      <th>york citi</th>\n",
       "      <th>york reuter</th>\n",
       "      <th>york time</th>\n",
       "      <th>york time report</th>\n",
       "      <th>young</th>\n",
       "      <th>young peopl</th>\n",
       "      <th>younger</th>\n",
       "      <th>youtub</th>\n",
       "      <th>zero</th>\n",
       "      <th>zink</th>\n",
       "      <th>zone</th>\n",
       "    </tr>\n",
       "  </thead>\n",
       "  <tbody>\n",
       "    <tr>\n",
       "      <th>0</th>\n",
       "      <td>0.0</td>\n",
       "      <td>0.0</td>\n",
       "      <td>0.0</td>\n",
       "      <td>0.0</td>\n",
       "      <td>0.0</td>\n",
       "      <td>0.0</td>\n",
       "      <td>0.0</td>\n",
       "      <td>0.0</td>\n",
       "      <td>0.0</td>\n",
       "      <td>0.0</td>\n",
       "      <td>0.0</td>\n",
       "      <td>0.0</td>\n",
       "      <td>0.0</td>\n",
       "      <td>0.0</td>\n",
       "      <td>0.0</td>\n",
       "      <td>0.0</td>\n",
       "      <td>0.0</td>\n",
       "      <td>0.0</td>\n",
       "      <td>0.0</td>\n",
       "      <td>0.0</td>\n",
       "      <td>0.0</td>\n",
       "      <td>0.0</td>\n",
       "      <td>0.0</td>\n",
       "      <td>0.0</td>\n",
       "      <td>0.063946</td>\n",
       "      <td>0.0</td>\n",
       "      <td>0.0</td>\n",
       "      <td>0.0</td>\n",
       "      <td>0.0</td>\n",
       "      <td>0.0</td>\n",
       "      <td>0.0</td>\n",
       "      <td>0.0</td>\n",
       "      <td>0.0</td>\n",
       "      <td>0.0</td>\n",
       "      <td>0.0</td>\n",
       "      <td>0.0</td>\n",
       "      <td>0.0</td>\n",
       "      <td>0.0</td>\n",
       "      <td>0.0</td>\n",
       "      <td>0.0</td>\n",
       "      <td>...</td>\n",
       "      <td>0.0</td>\n",
       "      <td>0.0</td>\n",
       "      <td>0.0</td>\n",
       "      <td>0.0</td>\n",
       "      <td>0.0</td>\n",
       "      <td>0.0</td>\n",
       "      <td>0.0</td>\n",
       "      <td>0.0</td>\n",
       "      <td>0.0</td>\n",
       "      <td>0.0</td>\n",
       "      <td>0.0</td>\n",
       "      <td>0.0</td>\n",
       "      <td>0.0</td>\n",
       "      <td>0.037189</td>\n",
       "      <td>0.0</td>\n",
       "      <td>0.0</td>\n",
       "      <td>0.0</td>\n",
       "      <td>0.0</td>\n",
       "      <td>0.0</td>\n",
       "      <td>0.0</td>\n",
       "      <td>0.0</td>\n",
       "      <td>0.0</td>\n",
       "      <td>0.0</td>\n",
       "      <td>0.0</td>\n",
       "      <td>0.0</td>\n",
       "      <td>0.0</td>\n",
       "      <td>0.0</td>\n",
       "      <td>0.0</td>\n",
       "      <td>0.0</td>\n",
       "      <td>0.0</td>\n",
       "      <td>0.0</td>\n",
       "      <td>0.0</td>\n",
       "      <td>0.0</td>\n",
       "      <td>0.0</td>\n",
       "      <td>0.0</td>\n",
       "      <td>0.0</td>\n",
       "      <td>0.0</td>\n",
       "      <td>0.0</td>\n",
       "      <td>0.0</td>\n",
       "      <td>0.0</td>\n",
       "    </tr>\n",
       "  </tbody>\n",
       "</table>\n",
       "<p>1 rows × 5000 columns</p>\n",
       "</div>"
      ],
      "text/plain": [
       "   abandon  abc  abc news  abe  abil  ...  younger  youtub  zero  zink  zone\n",
       "0      0.0  0.0       0.0  0.0   0.0  ...      0.0     0.0   0.0   0.0   0.0\n",
       "\n",
       "[1 rows x 5000 columns]"
      ]
     },
     "execution_count": 45,
     "metadata": {
      "tags": []
     },
     "output_type": "execute_result"
    }
   ],
   "source": [
    "pd.DataFrame(val, columns=tfidf_v.get_feature_names())"
   ]
  },
  {
   "cell_type": "code",
   "execution_count": 46,
   "metadata": {
    "colab": {
     "base_uri": "https://localhost:8080/",
     "height": 34
    },
    "colab_type": "code",
    "executionInfo": {
     "elapsed": 959,
     "status": "ok",
     "timestamp": 1595412364003,
     "user": {
      "displayName": "Keep Music Weird",
      "photoUrl": "https://lh3.googleusercontent.com/a-/AOh14Gi9IyYwcNDdJY9RrMvpMOuSI7FIspu0Dy8OyRZaVg=s64",
      "userId": "00063312648037822198"
     },
     "user_tz": -60
    },
    "id": "vRsnD100WL-K",
    "outputId": "efe571c2-f180-4a0e-bf65-d8eeb7a6addf"
   },
   "outputs": [
    {
     "data": {
      "text/plain": [
       "array([1])"
      ]
     },
     "execution_count": 46,
     "metadata": {
      "tags": []
     },
     "output_type": "execute_result"
    }
   ],
   "source": [
    "classifier.predict(val)"
   ]
  },
  {
   "cell_type": "markdown",
   "metadata": {
    "colab_type": "text",
    "id": "jMdcb59e2JKd"
   },
   "source": [
    "### Saving model and TFIDF Vectorizer"
   ]
  },
  {
   "cell_type": "code",
   "execution_count": 47,
   "metadata": {
    "colab": {
     "base_uri": "https://localhost:8080/",
     "height": 71
    },
    "colab_type": "code",
    "executionInfo": {
     "elapsed": 787,
     "status": "ok",
     "timestamp": 1595412388708,
     "user": {
      "displayName": "Keep Music Weird",
      "photoUrl": "https://lh3.googleusercontent.com/a-/AOh14Gi9IyYwcNDdJY9RrMvpMOuSI7FIspu0Dy8OyRZaVg=s64",
      "userId": "00063312648037822198"
     },
     "user_tz": -60
    },
    "id": "DbuV0rQyrAGt",
    "outputId": "06d5d761-9677-4a7a-f38d-3b391556453e"
   },
   "outputs": [
    {
     "name": "stderr",
     "output_type": "stream",
     "text": [
      "/usr/local/lib/python3.6/dist-packages/sklearn/externals/joblib/__init__.py:15: FutureWarning: sklearn.externals.joblib is deprecated in 0.21 and will be removed in 0.23. Please import this functionality directly from joblib, which can be installed with: pip install joblib. If this warning is raised when loading pickled models, you may need to re-serialize those models with scikit-learn 0.21+.\n",
      "  warnings.warn(msg, category=FutureWarning)\n"
     ]
    }
   ],
   "source": [
    "from sklearn.externals import joblib"
   ]
  },
  {
   "cell_type": "code",
   "execution_count": 48,
   "metadata": {
    "colab": {
     "base_uri": "https://localhost:8080/",
     "height": 34
    },
    "colab_type": "code",
    "executionInfo": {
     "elapsed": 825,
     "status": "ok",
     "timestamp": 1595412392044,
     "user": {
      "displayName": "Keep Music Weird",
      "photoUrl": "https://lh3.googleusercontent.com/a-/AOh14Gi9IyYwcNDdJY9RrMvpMOuSI7FIspu0Dy8OyRZaVg=s64",
      "userId": "00063312648037822198"
     },
     "user_tz": -60
    },
    "id": "QxXwq6SktIw7",
    "outputId": "6edef197-a5c1-47b5-e86c-535fc7d6a254"
   },
   "outputs": [
    {
     "data": {
      "text/plain": [
       "['model.pkl']"
      ]
     },
     "execution_count": 48,
     "metadata": {
      "tags": []
     },
     "output_type": "execute_result"
    }
   ],
   "source": [
    "joblib.dump(classifier, 'model.pkl')"
   ]
  },
  {
   "cell_type": "code",
   "execution_count": 49,
   "metadata": {
    "colab": {
     "base_uri": "https://localhost:8080/",
     "height": 34
    },
    "colab_type": "code",
    "executionInfo": {
     "elapsed": 15781,
     "status": "ok",
     "timestamp": 1595412410758,
     "user": {
      "displayName": "Keep Music Weird",
      "photoUrl": "https://lh3.googleusercontent.com/a-/AOh14Gi9IyYwcNDdJY9RrMvpMOuSI7FIspu0Dy8OyRZaVg=s64",
      "userId": "00063312648037822198"
     },
     "user_tz": -60
    },
    "id": "KkOTpucwaoO2",
    "outputId": "ab62f402-6334-4ab1-ad98-7711e1e9d2aa"
   },
   "outputs": [
    {
     "data": {
      "text/plain": [
       "['tfidfvect.pkl']"
      ]
     },
     "execution_count": 49,
     "metadata": {
      "tags": []
     },
     "output_type": "execute_result"
    }
   ],
   "source": [
    "joblib.dump(tfidf_v, 'tfidfvect.pkl')"
   ]
  },
  {
   "cell_type": "markdown",
   "metadata": {
    "colab_type": "text",
    "id": "KMCnuTEM27Rh"
   },
   "source": [
    "### Load model and vectorizer and predict on previous preprocessed datapoint"
   ]
  },
  {
   "cell_type": "code",
   "execution_count": 50,
   "metadata": {
    "colab": {},
    "colab_type": "code",
    "executionInfo": {
     "elapsed": 855,
     "status": "ok",
     "timestamp": 1595412415421,
     "user": {
      "displayName": "Keep Music Weird",
      "photoUrl": "https://lh3.googleusercontent.com/a-/AOh14Gi9IyYwcNDdJY9RrMvpMOuSI7FIspu0Dy8OyRZaVg=s64",
      "userId": "00063312648037822198"
     },
     "user_tz": -60
    },
    "id": "Fx_NwuC4tdpa"
   },
   "outputs": [],
   "source": [
    "joblib_model = joblib.load('model.pkl')"
   ]
  },
  {
   "cell_type": "code",
   "execution_count": 51,
   "metadata": {
    "colab": {},
    "colab_type": "code",
    "executionInfo": {
     "elapsed": 8556,
     "status": "ok",
     "timestamp": 1595412425876,
     "user": {
      "displayName": "Keep Music Weird",
      "photoUrl": "https://lh3.googleusercontent.com/a-/AOh14Gi9IyYwcNDdJY9RrMvpMOuSI7FIspu0Dy8OyRZaVg=s64",
      "userId": "00063312648037822198"
     },
     "user_tz": -60
    },
    "id": "8OlJqPqta1A3"
   },
   "outputs": [],
   "source": [
    "joblib_tfidfvect = joblib.load('tfidfvect.pkl')"
   ]
  },
  {
   "cell_type": "code",
   "execution_count": 52,
   "metadata": {
    "colab": {},
    "colab_type": "code",
    "executionInfo": {
     "elapsed": 4709,
     "status": "ok",
     "timestamp": 1595412438920,
     "user": {
      "displayName": "Keep Music Weird",
      "photoUrl": "https://lh3.googleusercontent.com/a-/AOh14Gi9IyYwcNDdJY9RrMvpMOuSI7FIspu0Dy8OyRZaVg=s64",
      "userId": "00063312648037822198"
     },
     "user_tz": -60
    },
    "id": "Uvii_nCgbBdP"
   },
   "outputs": [],
   "source": [
    "val_pkl = joblib_tfidfvect.transform([review]).toarray()"
   ]
  },
  {
   "cell_type": "code",
   "execution_count": 53,
   "metadata": {
    "colab": {
     "base_uri": "https://localhost:8080/",
     "height": 34
    },
    "colab_type": "code",
    "executionInfo": {
     "elapsed": 761,
     "status": "ok",
     "timestamp": 1595412442441,
     "user": {
      "displayName": "Keep Music Weird",
      "photoUrl": "https://lh3.googleusercontent.com/a-/AOh14Gi9IyYwcNDdJY9RrMvpMOuSI7FIspu0Dy8OyRZaVg=s64",
      "userId": "00063312648037822198"
     },
     "user_tz": -60
    },
    "id": "0ZX4RyA-bLUK",
    "outputId": "fdc2660f-dee6-42b6-f18f-013fea079f48"
   },
   "outputs": [
    {
     "data": {
      "text/plain": [
       "array([1])"
      ]
     },
     "execution_count": 53,
     "metadata": {
      "tags": []
     },
     "output_type": "execute_result"
    }
   ],
   "source": [
    "joblib_model.predict(val_pkl)"
   ]
  },
  {
   "cell_type": "markdown",
   "metadata": {
    "colab_type": "text",
    "id": "FRN58Kvh2lUP"
   },
   "source": [
    "### Save some datapoints for text random generation"
   ]
  },
  {
   "cell_type": "code",
   "execution_count": 54,
   "metadata": {
    "colab": {},
    "colab_type": "code",
    "executionInfo": {
     "elapsed": 835,
     "status": "ok",
     "timestamp": 1595412453739,
     "user": {
      "displayName": "Keep Music Weird",
      "photoUrl": "https://lh3.googleusercontent.com/a-/AOh14Gi9IyYwcNDdJY9RrMvpMOuSI7FIspu0Dy8OyRZaVg=s64",
      "userId": "00063312648037822198"
     },
     "user_tz": -60
    },
    "id": "w-91d_1T8ATz"
   },
   "outputs": [],
   "source": [
    "frames_2 = [true.loc[0:10][:], fake.loc[0:10][:]]\n",
    "df_2 = pd.concat(frames_2)"
   ]
  },
  {
   "cell_type": "code",
   "execution_count": 55,
   "metadata": {
    "colab": {},
    "colab_type": "code",
    "executionInfo": {
     "elapsed": 1183,
     "status": "ok",
     "timestamp": 1595412457184,
     "user": {
      "displayName": "Keep Music Weird",
      "photoUrl": "https://lh3.googleusercontent.com/a-/AOh14Gi9IyYwcNDdJY9RrMvpMOuSI7FIspu0Dy8OyRZaVg=s64",
      "userId": "00063312648037822198"
     },
     "user_tz": -60
    },
    "id": "rEbsSCxK8L92"
   },
   "outputs": [],
   "source": [
    "df_2.to_csv('random_dataset.csv', index=False)"
   ]
  }
 ],
 "metadata": {
  "colab": {
   "name": "Fake News Prediction 1.ipynb",
   "provenance": []
  },
  "kernelspec": {
   "display_name": "Python 3",
   "language": "python",
   "name": "python3"
  },
  "language_info": {
   "codemirror_mode": {
    "name": "ipython",
    "version": 3
   },
   "file_extension": ".py",
   "mimetype": "text/x-python",
   "name": "python",
   "nbconvert_exporter": "python",
   "pygments_lexer": "ipython3",
   "version": "3.8.8"
  }
 },
 "nbformat": 4,
 "nbformat_minor": 1
}
